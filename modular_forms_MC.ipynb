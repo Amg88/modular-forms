{
 "cells": [
  {
   "cell_type": "markdown",
   "metadata": {},
   "source": [
    "# Introduction to modular forms\n",
    "\n",
    "This notebook is about modular forms. These objects are pervasive in all mathematics: most often, when strange coincidences appear between series expansions that seem completely unrelated, modular forms are usually at the root of the phenomenon.\n",
    "   \n",
    "For example, do you know that the number $e^{\\pi \\sqrt{163}}$ is very close to being integer!?"
   ]
  },
  {
   "cell_type": "code",
   "execution_count": 1,
   "metadata": {},
   "outputs": [
    {
     "data": {
      "text/plain": [
       "'262537412640768743.99999999999924438'"
      ]
     },
     "execution_count": 1,
     "metadata": {},
     "output_type": "execute_result"
    }
   ],
   "source": [
    "exp(sqrt(163)*pi).n(110).str(no_sci = 2)"
   ]
  },
  {
   "cell_type": "markdown",
   "metadata": {},
   "source": [
    "## Definitions\n",
    "\n",
    "We are going to meet different objects. Let's start with some definitions.\n",
    "\n",
    "Over all the notebook $q = e^{i 2 \\pi \\tau}$.\n",
    "\n",
    "### Modular group\n",
    "\n",
    "The modular group is the group $SL_2(\\mathbb Z) = \\{A \\in GL_2(\\mathbb Z) | det(A)=1 \\}$. \n",
    "\n",
    "This group is the group of symmetries of modular forms -- as we will see momentarily.\n"
   ]
  },
  {
   "cell_type": "code",
   "execution_count": 2,
   "metadata": {},
   "outputs": [
    {
     "data": {
      "text/plain": [
       "Modular Group SL(2,Z)"
      ]
     },
     "execution_count": 2,
     "metadata": {},
     "output_type": "execute_result"
    }
   ],
   "source": [
    "SL2Z"
   ]
  },
  {
   "cell_type": "code",
   "execution_count": 3,
   "metadata": {},
   "outputs": [
    {
     "name": "stdout",
     "output_type": "stream",
     "text": [
      "[ 0 -1]\n",
      "[ 1  0]\n",
      "[1 1]\n",
      "[0 1]\n"
     ]
    }
   ],
   "source": [
    "S, T = SL2Z.gens()\n",
    "\n",
    "# generators\n",
    "print(S)\n",
    "print(T)"
   ]
  },
  {
   "cell_type": "markdown",
   "metadata": {},
   "source": [
    "### Congruence subgroups\n",
    "\n",
    "The conruence subroups are defined as \n",
    "\n",
    "$$Ker(SL_2(\\mathbb Z) \\to SL_2(\\mathbb Z/N\\mathbb Z)$$\n",
    "\n",
    "The most famous ones are \n",
    "$$\\Gamma_0(N)= \\{ A \\in SL_2(\\mathbb Z) | A = ((\\star,\\star),(0,\\star)) \\ mod N\\}$$\n",
    "$$\\Gamma_1(N)= \\{ A \\in SL_2(\\mathbb Z) | A = ((1,\\star),(0,1)) \\ mod N\\}$$"
   ]
  },
  {
   "cell_type": "code",
   "execution_count": 4,
   "metadata": {},
   "outputs": [
    {
     "data": {
      "text/plain": [
       "(\n",
       "[1 1]  [ 9 -2]  [ 41 -11]  [ 29  -9]  [11 -4]  [-1  0]\n",
       "[0 1], [14 -3], [ 56 -15], [ 42 -13], [14 -5], [ 0 -1]\n",
       ")"
      ]
     },
     "execution_count": 4,
     "metadata": {},
     "output_type": "execute_result"
    }
   ],
   "source": [
    "G0_14 = Gamma0(14)\n",
    "G0_14.gens()"
   ]
  },
  {
   "cell_type": "code",
   "execution_count": 5,
   "metadata": {},
   "outputs": [
    {
     "data": {
      "text/plain": [
       "24"
      ]
     },
     "execution_count": 5,
     "metadata": {},
     "output_type": "execute_result"
    }
   ],
   "source": [
    "G0_14.index() # index in SL2Z:  [SL2Z:G0_14]"
   ]
  },
  {
   "cell_type": "code",
   "execution_count": 6,
   "metadata": {},
   "outputs": [],
   "source": [
    "# Gamma1(1) is SL2Z\n",
    "assert Gamma1(1).index() == 1\n",
    "assert Gamma1(1) is SL2Z"
   ]
  },
  {
   "cell_type": "code",
   "execution_count": 7,
   "metadata": {},
   "outputs": [
    {
     "data": {
      "text/plain": [
       "(\n",
       "[ 0 -1]  [1 1]\n",
       "[ 1  0], [0 1]\n",
       ")"
      ]
     },
     "execution_count": 7,
     "metadata": {},
     "output_type": "execute_result"
    }
   ],
   "source": [
    "Gamma1(1).gens()"
   ]
  },
  {
   "cell_type": "markdown",
   "metadata": {},
   "source": [
    "### Modular function\n",
    "\n",
    "$SL_2(\\mathbb Z)$ acts on the upper-half plane $\\mathfrak h = {\\tau \\in \\mathbb C | Im(\\tau) > 0}$ via\n",
    "\n",
    "$$((a,b)(c,d)),\\tau \\mapsto \\gamma \\cdot \\tau=\\frac{a \\tau + b}{c \\tau + d}$$\n",
    "\n",
    "Modular functions are functions that are invariant under such actions:\n",
    "\n",
    "$f: \\mathfrak h \\to \\mathbb C $ such that $\\forall \\gamma \\in SL_2(\\mathbb Z), f(\\tau)=f(\\gamma \\cdot \\tau)$.\n",
    "\n",
    "The same defintion also applies to *congruence subgroups*."
   ]
  },
  {
   "cell_type": "markdown",
   "metadata": {},
   "source": [
    "### Modular forms\n",
    "\n",
    "Modular forms are formal differential forms, whose domain is again $\\mathfrak h$, that are covariant with respect to teh modular symmetry, i.e.\n",
    "\n",
    "$$f \\in M_k, \\ f\\left(\\frac{a \\tau + b}{c \\tau + d}\\right) = (c \\tau + d)^kf(\\tau)$$\n",
    "\n",
    "Notice that this is the way to transform a differential form like $f(\\tau)d\\tau^{k/2}$.\n",
    "\n",
    "The most famous example of modular forms are Eisenstein series. In particular, two of them are ubiquitous in the theory of elliptic curves:\n",
    "$$E_4(\\tau) = 240  \\sum_{(m,n) \\in \\mathbb Z^2 - (0,0)}\\frac{1}{(m + \\tau n)^4}$$\n",
    "$$E_6(\\tau) = 504  \\sum_{(m,n) \\in \\mathbb Z^2 - (0,0)}\\frac{1}{(m + \\tau n)^6}$$\n"
   ]
  },
  {
   "cell_type": "code",
   "execution_count": 8,
   "metadata": {},
   "outputs": [
    {
     "data": {
      "text/plain": [
       "[\n",
       "1 + 240*q + 2160*q^2 + 6720*q^3 + 17520*q^4 + 30240*q^5 + 60480*q^6 + 82560*q^7 + 140400*q^8 + 181680*q^9 + 272160*q^10 + 319680*q^11 + 490560*q^12 + 527520*q^13 + 743040*q^14 + O(q^15)\n",
       "]"
      ]
     },
     "execution_count": 8,
     "metadata": {},
     "output_type": "execute_result"
    }
   ],
   "source": [
    "EisensteinForms(1,4, prec=15).gens()"
   ]
  },
  {
   "cell_type": "code",
   "execution_count": 9,
   "metadata": {},
   "outputs": [
    {
     "data": {
      "text/plain": [
       "[\n",
       "1 - 504*q - 16632*q^2 - 122976*q^3 - 532728*q^4 - 1575504*q^5 - 4058208*q^6 - 8471232*q^7 - 17047800*q^8 - 29883672*q^9 - 51991632*q^10 - 81170208*q^11 - 129985632*q^12 - 187132176*q^13 - 279550656*q^14 + O(q^15)\n",
       "]"
      ]
     },
     "execution_count": 9,
     "metadata": {},
     "output_type": "execute_result"
    }
   ],
   "source": [
    "EisensteinForms(1,6,prec=15).gens()"
   ]
  },
  {
   "cell_type": "code",
   "execution_count": 10,
   "metadata": {},
   "outputs": [
    {
     "name": "stdout",
     "output_type": "stream",
     "text": [
      "1 + 240*q + 2160*q^2 + 6720*q^3 + 17520*q^4 + 30240*q^5 + 60480*q^6 + 82560*q^7 + 140400*q^8 + 181680*q^9 + 272160*q^10 + 319680*q^11 + O(q^12)\n",
      "1 - 504*q - 16632*q^2 - 122976*q^3 - 532728*q^4 - 1575504*q^5 - 4058208*q^6 - 8471232*q^7 - 17047800*q^8 - 29883672*q^9 - 51991632*q^10 - 81170208*q^11 + O(q^12)\n"
     ]
    }
   ],
   "source": [
    "# The most famous example again\n",
    "\n",
    "E4 = 240*eisenstein_series_qexp(4, 12)\n",
    "E6 = -504*eisenstein_series_qexp(6, 12)\n",
    "print(E4)\n",
    "print(E6)"
   ]
  },
  {
   "cell_type": "markdown",
   "metadata": {},
   "source": [
    "The same definition holds also for congruence subgroups.\n",
    "\n",
    "#### Theorem\n",
    "The vector space of modular forms of weight $k$ is finite dimensional."
   ]
  },
  {
   "cell_type": "code",
   "execution_count": 11,
   "metadata": {},
   "outputs": [
    {
     "data": {
      "text/plain": [
       "Modular Forms space of dimension 8 for Congruence Subgroup Gamma0(14) of weight 4 over Rational Field"
      ]
     },
     "execution_count": 11,
     "metadata": {},
     "output_type": "execute_result"
    }
   ],
   "source": [
    "mf = ModularForms(14,4,prec=15)\n",
    "mf"
   ]
  },
  {
   "cell_type": "code",
   "execution_count": 12,
   "metadata": {},
   "outputs": [
    {
     "data": {
      "text/plain": [
       "[\n",
       "q - 2*q^5 - 4*q^6 - q^7 + 8*q^8 - 11*q^9 - 12*q^10 + 12*q^11 + 8*q^12 + 38*q^13 + 12*q^14 + O(q^15),\n",
       "q^2 - 2*q^5 - 2*q^6 + q^7 - 6*q^8 + 12*q^10 + 4*q^11 + 2*q^13 - 5*q^14 + O(q^15),\n",
       "q^3 - q^5 - 2*q^6 - q^7 - 4*q^8 + 6*q^9 + 10*q^10 - 6*q^11 + 4*q^12 - 3*q^13 - 2*q^14 + O(q^15),\n",
       "q^4 - 2*q^5 + q^7 + q^8 - 4*q^10 + 4*q^11 - 2*q^12 + 2*q^13 + 2*q^14 + O(q^15),\n",
       "1 + 240*q^14 + O(q^15),\n",
       "q + 28*q^3 - 8*q^4 + 126*q^5 - 72*q^8 + 757*q^9 + 1332*q^11 - 224*q^12 + 2198*q^13 - 2744*q^14 + O(q^15),\n",
       "q^2 + 9*q^4 + 28*q^6 + 73*q^8 + 126*q^10 + 252*q^12 + 343*q^14 + O(q^15),\n",
       "q^7 + 8*q^14 + O(q^15)\n",
       "]"
      ]
     },
     "execution_count": 12,
     "metadata": {},
     "output_type": "execute_result"
    }
   ],
   "source": [
    "mf.q_expansion_basis()  # the basis of the vector space"
   ]
  },
  {
   "cell_type": "markdown",
   "metadata": {},
   "source": [
    "### Cusp forms \n",
    "\n",
    "Cusp forms are modular forms that converge to $0$ at cusp points. In the case of $SL_2(\\mathbb Z)$, since the only cusp point is at $\\infty$, being a cusp form is equivalent to having the first Fourier coefficent $a_0=0$.\n",
    "\n",
    "### Cusp points\n",
    "\n",
    "Cusps are the points along the line $x=0$ on the complex plane where the **fundamental domain** (see below) intersects such line. $\\infty$ is always a cusp point.\n",
    "\n",
    "### Fundamental domain\n",
    "\n",
    "Since modular functions are invariant w.r.t. the modular group (or congruence subgroups), it would make sense to quotient the upper-half plane by the modular group (or congruence subgroup). This quotient is the fundamental domain.\n",
    "\n",
    "#### Remark\n",
    "\n",
    "A Fourier expansion of $f$ is an expansion of the form $\\sum_i^\\infty a_i q^i$. Recall that $q=e^{i 2 \\pi \\tau}$"
   ]
  },
  {
   "cell_type": "code",
   "execution_count": 13,
   "metadata": {},
   "outputs": [
    {
     "data": {
      "text/plain": [
       "[Infinity]"
      ]
     },
     "execution_count": 13,
     "metadata": {},
     "output_type": "execute_result"
    }
   ],
   "source": [
    "SL2Z.cusps()  # cusp points: indeed the fundamental domain does not intersect x=0"
   ]
  },
  {
   "cell_type": "code",
   "execution_count": 14,
   "metadata": {},
   "outputs": [
    {
     "data": {
      "image/png": "[encoded data removed]",
      "text/plain": [
       "Graphics object consisting of 4 graphics primitives"
      ]
     },
     "execution_count": 14,
     "metadata": {},
     "output_type": "execute_result"
    }
   ],
   "source": [
    "# let's check the fundamental domain\n",
    "fs = FareySymbol(SL2Z)\n",
    "fs.fundamental_domain()"
   ]
  },
  {
   "cell_type": "markdown",
   "metadata": {},
   "source": [
    "Notice that the above picture is not in the standard textbook form: usually one considers the upper area (the white area in the picture above the gray ggeodessic triangle). Nonnetheless the two are both correct and equivalent, as they differ only by the action of the generator $S$ (that would send $0 \\mapsto \\infty$ and fix the points $|\\tau|=1$)."
   ]
  },
  {
   "cell_type": "code",
   "execution_count": 15,
   "metadata": {},
   "outputs": [
    {
     "data": {
      "text/plain": [
       "[Infinity]"
      ]
     },
     "execution_count": 15,
     "metadata": {},
     "output_type": "execute_result"
    }
   ],
   "source": [
    "fs.cusps()"
   ]
  },
  {
   "cell_type": "code",
   "execution_count": 16,
   "metadata": {
    "scrolled": true
   },
   "outputs": [
    {
     "data": {
      "text/plain": [
       "[0, 1/7, 1/2, Infinity]"
      ]
     },
     "execution_count": 16,
     "metadata": {},
     "output_type": "execute_result"
    }
   ],
   "source": [
    "G0_14.cusps()  # the cusps"
   ]
  },
  {
   "cell_type": "code",
   "execution_count": 17,
   "metadata": {},
   "outputs": [
    {
     "data": {
      "text/plain": [
       "[0, 1/4, 2/7, Infinity]"
      ]
     },
     "execution_count": 17,
     "metadata": {},
     "output_type": "execute_result"
    }
   ],
   "source": [
    "# change in convention for the cuss\n",
    "fs = FareySymbol(G0_14)\n",
    "fs.cusps()"
   ]
  },
  {
   "cell_type": "code",
   "execution_count": 18,
   "metadata": {},
   "outputs": [
    {
     "data": {
      "image/png": "[encoded data removed]",
      "text/plain": [
       "Graphics object consisting of 106 graphics primitives"
      ]
     },
     "execution_count": 18,
     "metadata": {},
     "output_type": "execute_result"
    }
   ],
   "source": [
    "# let's check the fundamental domain\n",
    "fs.fundamental_domain()"
   ]
  },
  {
   "cell_type": "code",
   "execution_count": 19,
   "metadata": {},
   "outputs": [
    {
     "name": "stdout",
     "output_type": "stream",
     "text": [
      "Cuspidal subspace of dimension 4 of Modular Forms space of dimension 8 for Congruence Subgroup Gamma0(14) of weight 4 over Rational Field\n"
     ]
    },
    {
     "data": {
      "text/plain": [
       "Congruence Subgroup Gamma0(14)"
      ]
     },
     "execution_count": 19,
     "metadata": {},
     "output_type": "execute_result"
    }
   ],
   "source": [
    "cf = CuspForms(14,4,prec=15)\n",
    "print(cf)\n",
    "cf.group()"
   ]
  },
  {
   "cell_type": "code",
   "execution_count": 20,
   "metadata": {},
   "outputs": [
    {
     "data": {
      "image/png": "[encoded data removed]",
      "text/plain": [
       "Graphics object consisting of 106 graphics primitives"
      ]
     },
     "execution_count": 20,
     "metadata": {},
     "output_type": "execute_result"
    }
   ],
   "source": [
    "# we can limit ourselves to the subgroup associated to the cusp forms. Here below an elliptic curve\n",
    "FareySymbol(cf.group()).fundamental_domain()"
   ]
  },
  {
   "cell_type": "code",
   "execution_count": 21,
   "metadata": {},
   "outputs": [],
   "source": [
    "assert cf is mf.cuspidal_subspace()"
   ]
  },
  {
   "cell_type": "code",
   "execution_count": 22,
   "metadata": {},
   "outputs": [
    {
     "data": {
      "text/plain": [
       "[\n",
       "q - 2*q^5 - 4*q^6 - q^7 + 8*q^8 - 11*q^9 - 12*q^10 + 12*q^11 + 8*q^12 + 38*q^13 + 12*q^14 + O(q^15),\n",
       "q^2 - 2*q^5 - 2*q^6 + q^7 - 6*q^8 + 12*q^10 + 4*q^11 + 2*q^13 - 5*q^14 + O(q^15),\n",
       "q^3 - q^5 - 2*q^6 - q^7 - 4*q^8 + 6*q^9 + 10*q^10 - 6*q^11 + 4*q^12 - 3*q^13 - 2*q^14 + O(q^15),\n",
       "q^4 - 2*q^5 + q^7 + q^8 - 4*q^10 + 4*q^11 - 2*q^12 + 2*q^13 + 2*q^14 + O(q^15)\n",
       "]"
      ]
     },
     "execution_count": 22,
     "metadata": {},
     "output_type": "execute_result"
    }
   ],
   "source": [
    "cf.q_echelon_basis()"
   ]
  },
  {
   "cell_type": "code",
   "execution_count": 23,
   "metadata": {},
   "outputs": [
    {
     "data": {
      "text/plain": [
       "[\n",
       "q - 2*q^5 - 4*q^6 - q^7 + 8*q^8 - 11*q^9 - 12*q^10 + 12*q^11 + 8*q^12 + 38*q^13 + 12*q^14 + O(q^15),\n",
       "q^2 - 2*q^5 - 2*q^6 + q^7 - 6*q^8 + 12*q^10 + 4*q^11 + 2*q^13 - 5*q^14 + O(q^15),\n",
       "q^3 - q^5 - 2*q^6 - q^7 - 4*q^8 + 6*q^9 + 10*q^10 - 6*q^11 + 4*q^12 - 3*q^13 - 2*q^14 + O(q^15),\n",
       "q^4 - 2*q^5 + q^7 + q^8 - 4*q^10 + 4*q^11 - 2*q^12 + 2*q^13 + 2*q^14 + O(q^15)\n",
       "]"
      ]
     },
     "execution_count": 23,
     "metadata": {},
     "output_type": "execute_result"
    }
   ],
   "source": [
    "cf.q_integral_basis()"
   ]
  },
  {
   "cell_type": "code",
   "execution_count": 24,
   "metadata": {},
   "outputs": [
    {
     "data": {
      "text/plain": [
       "[\n",
       "q - 2*q^5 - 4*q^6 - q^7 + 8*q^8 - 11*q^9 - 12*q^10 + 12*q^11 + 8*q^12 + 38*q^13 + 12*q^14 + O(q^15),\n",
       "q^2 - 2*q^5 - 2*q^6 + q^7 - 6*q^8 + 12*q^10 + 4*q^11 + 2*q^13 - 5*q^14 + O(q^15),\n",
       "q^3 - q^5 - 2*q^6 - q^7 - 4*q^8 + 6*q^9 + 10*q^10 - 6*q^11 + 4*q^12 - 3*q^13 - 2*q^14 + O(q^15),\n",
       "q^4 - 2*q^5 + q^7 + q^8 - 4*q^10 + 4*q^11 - 2*q^12 + 2*q^13 + 2*q^14 + O(q^15)\n",
       "]"
      ]
     },
     "execution_count": 24,
     "metadata": {},
     "output_type": "execute_result"
    }
   ],
   "source": [
    "cf.q_expansion_basis()"
   ]
  },
  {
   "cell_type": "markdown",
   "metadata": {},
   "source": [
    "#### The most famous cusp form\n",
    "\n",
    "The most famous cusp form is for sure\n",
    "\n",
    "$$\\Delta = q\\cdot \\prod_{n=1}^{\\infty}(1-q^n)^{24}$$\n",
    "\n",
    "$\\Delta(\\tau)$ is the discriminant of an elliptic curve whose lattice is defined by $\\mathbb Z\\tau + \\mathbb Z$."
   ]
  },
  {
   "cell_type": "code",
   "execution_count": 25,
   "metadata": {},
   "outputs": [
    {
     "data": {
      "text/plain": [
       "q - 24*q^2 + 252*q^3 - 1472*q^4 + 4830*q^5 - 6048*q^6 - 16744*q^7 + 84480*q^8 - 113643*q^9 - 115920*q^10 + 534612*q^11 + O(q^12)"
      ]
     },
     "execution_count": 25,
     "metadata": {},
     "output_type": "execute_result"
    }
   ],
   "source": [
    "delta = delta_qexp(12)\n",
    "delta"
   ]
  },
  {
   "cell_type": "markdown",
   "metadata": {},
   "source": [
    "### The elliptic modular function\n",
    "\n",
    "There is a rather special **modular function** that arises from the theory of elliptic curves: $j(\\tau)$. Two non-isogeneous elliptic curves will have different modular functions $j(\\tau)$: it is indeed an invariant of the isogeny class.\n",
    "\n",
    "But it is far more mysterious than that: the coefficient of $q^1$ is actually equal to $1+196883$ and these numbers are the first two possible dimensions of representations of the **Monster group**."
   ]
  },
  {
   "cell_type": "code",
   "execution_count": 26,
   "metadata": {},
   "outputs": [],
   "source": [
    "j = E4^3/delta"
   ]
  },
  {
   "cell_type": "markdown",
   "metadata": {},
   "source": [
    "### Eisenstein forms\n",
    "\n",
    "The direct generalisation of the Eisenstein series to congruence subrgoups form a space, is the space complementary to the cusp forms (i.e. Eisenstein series are not cusp forms)"
   ]
  },
  {
   "cell_type": "code",
   "execution_count": 27,
   "metadata": {},
   "outputs": [
    {
     "data": {
      "text/plain": [
       "Eisenstein subspace of dimension 4 of Modular Forms space of dimension 8 for Congruence Subgroup Gamma0(14) of weight 4 over Rational Field"
      ]
     },
     "execution_count": 27,
     "metadata": {},
     "output_type": "execute_result"
    }
   ],
   "source": [
    "ef = mf.eisenstein_subspace() \n",
    "ef"
   ]
  },
  {
   "cell_type": "code",
   "execution_count": 28,
   "metadata": {},
   "outputs": [
    {
     "data": {
      "text/plain": [
       "[\n",
       "1 + 240*q^14 + O(q^15),\n",
       "q + 28*q^3 - 8*q^4 + 126*q^5 - 72*q^8 + 757*q^9 + 1332*q^11 - 224*q^12 + 2198*q^13 - 2744*q^14 + O(q^15),\n",
       "q^2 + 9*q^4 + 28*q^6 + 73*q^8 + 126*q^10 + 252*q^12 + 343*q^14 + O(q^15),\n",
       "q^7 + 8*q^14 + O(q^15)\n",
       "]"
      ]
     },
     "execution_count": 28,
     "metadata": {},
     "output_type": "execute_result"
    }
   ],
   "source": [
    "ef.q_expansion_basis()"
   ]
  },
  {
   "cell_type": "markdown",
   "metadata": {},
   "source": [
    "### Space dimensions\n",
    "\n",
    "Cusp forms and Eisenstein forms are complementary and they constitute all the pieceses of the space of modular forms:"
   ]
  },
  {
   "cell_type": "code",
   "execution_count": 29,
   "metadata": {},
   "outputs": [],
   "source": [
    "assert mf.dimension() == cf.dimension() + ef.dimension()"
   ]
  },
  {
   "cell_type": "markdown",
   "metadata": {},
   "source": [
    "## Spaces of modular forms\n",
    "\n",
    "We saw above that modular form of a fixed weight $k$ (and level $N$) for a finite dimensional vector space. Is there an easy or combinatorial way to dedscribe such space? The answer is *yes*, and in the next section we see how.\n",
    "\n",
    "### Modular symbols\n",
    "\n",
    "Modular symbols are a combinatorial tool, very useful to study modular forms spaces.\n",
    "\n",
    "It has a neat geometric interpretation, that we are going to explore.\n",
    "\n",
    "A modular symbol is a formal object of the form $P\\{\\alpha,\\beta\\}$, where $\\alpha,\\beta\\ \\in \\mathbb P^1(\\mathbb Q)$, i.e. the line $x=0$. We interpret modular symbols as homotopy classes of paths going from the cusp $\\alpha$ to the cusp $\\beta$. Hence they respet the followig relation:\n",
    "\n",
    "$$P\\{\\alpha,\\beta\\}+P\\{\\beta,\\gamma\\}+P\\{\\gamma,\\alpha\\} = 0, \\ P\\{\\alpha,\\alpha\\}= 0, \\ P\\{\\alpha,\\beta\\} = - P\\{\\beta,\\alpha\\}$$\n",
    "\n",
    "Finally, we also quotient by the modular symmetry on the line $x=0$: $g\\cdot P(X,Y)\\{\\alpha,\\beta\\} = P(g(X,Y))\\{g(\\alpha),g(\\beta)\\}$\n",
    "\n",
    "In particular, modular symbols so defined will generate the relative homology group $H_1(Y(\\Gamma_0(N)),cusps; \\mathbb Z)$, where $Y(\\Gamma_0(N)$ is the algebraic curve corresponding to the fundamental domain (cusps excluded). Notice that the polynomails are useful only if the weight of the modular forms is $k>2$, and the polynomial part has degree $k-2$. Recall indeed that for $k=2$, modular forms are interpreted as 1-forms."
   ]
  },
  {
   "cell_type": "code",
   "execution_count": 30,
   "metadata": {},
   "outputs": [
    {
     "data": {
      "text/plain": [
       "((1,0), (2,11), (2,13), (7,1), (7,2))"
      ]
     },
     "execution_count": 30,
     "metadata": {},
     "output_type": "execute_result"
    }
   ],
   "source": [
    "ms = G0_14.modular_symbols()\n",
    "ms.gens()\n"
   ]
  },
  {
   "cell_type": "code",
   "execution_count": 31,
   "metadata": {},
   "outputs": [
    {
     "data": {
      "text/plain": [
       "([X^2,(0,1)],\n",
       " [X^2,(1,10)],\n",
       " [X^2,(1,12)],\n",
       " [X^2,(1,13)],\n",
       " [X^2,(1,14)],\n",
       " [X^2,(3,1)],\n",
       " [X^2,(3,4)],\n",
       " [X^2,(3,5)],\n",
       " [X^2,(3,8)],\n",
       " [X^2,(5,1)],\n",
       " [X^2,(5,2)],\n",
       " [X^2,(5,3)])"
      ]
     },
     "execution_count": 31,
     "metadata": {},
     "output_type": "execute_result"
    }
   ],
   "source": [
    "# with higher weights, the polynomials appear\n",
    "ModularForms(15,4).modular_symbols().gens()"
   ]
  },
  {
   "cell_type": "markdown",
   "metadata": {},
   "source": [
    "### Relation to homology\n",
    "\n",
    "How about cusp forms? Well, cusp forms corresponds to combinations of modular symbols that are closed loops. This also impliess that they form a basis for the homology of the compactified curve $X(\\Gamma_0(N))$:\n",
    "    \n",
    "$$H_1(X(\\Gamma_0(N)),\\mathbb Z) = S_k(\\Gamma_0(N))$$"
   ]
  },
  {
   "cell_type": "code",
   "execution_count": 32,
   "metadata": {},
   "outputs": [
    {
     "data": {
      "text/plain": [
       "((2,11) - (7,1) + (7,2), (2,13) - (7,1) + (7,2))"
      ]
     },
     "execution_count": 32,
     "metadata": {},
     "output_type": "execute_result"
    }
   ],
   "source": [
    "ms.cuspidal_submodule().integral_basis()  # we see here that combinations to start get closed loops are needed"
   ]
  },
  {
   "cell_type": "markdown",
   "metadata": {},
   "source": [
    "It is also possible to compute the boundary map:"
   ]
  },
  {
   "cell_type": "code",
   "execution_count": 33,
   "metadata": {},
   "outputs": [
    {
     "data": {
      "text/plain": [
       "[ 1 -1  0  0]\n",
       "[ 0  1 -1  0]\n",
       "[ 0  1 -1  0]\n",
       "[ 0  1  0 -1]\n",
       "[ 0  0  1 -1]"
      ]
     },
     "execution_count": 33,
     "metadata": {},
     "output_type": "execute_result"
    }
   ],
   "source": [
    "ms.boundary_map().matrix()"
   ]
  },
  {
   "cell_type": "markdown",
   "metadata": {},
   "source": [
    "### Manin symbols\n",
    "\n",
    "Consider the subgroup $\\Gamma_1(N) \\subset SL_2(\\mathbb Z)$. We have finite index $[SL_2(\\mathbb Z):\\Gamma_1(N)]$, and this number corresponds to the number of right cosets.\n",
    "\n",
    "For $\\Gamma_1(N)$ subgroups, cosets are parametrised by points over the line $\\mathbb P^1(\\mathbb Z/N \\mathbb Z)$, where the map sends $((a,b),(c,d)) \\mapsto [c:d]$. This is because $a=d^{-1}$ when $c = 0$ to remain in $SL_2(\\mathbb Z)$, and we can have $a=d=0$ when $c \\neq 0$."
   ]
  },
  {
   "cell_type": "code",
   "execution_count": 34,
   "metadata": {},
   "outputs": [
    {
     "data": {
      "text/plain": [
       "192"
      ]
     },
     "execution_count": 34,
     "metadata": {},
     "output_type": "execute_result"
    }
   ],
   "source": [
    "G1_15=Gamma1(15)\n",
    "\n",
    "# number of cosets\n",
    "G1_15.index()"
   ]
  },
  {
   "cell_type": "code",
   "execution_count": 35,
   "metadata": {},
   "outputs": [
    {
     "data": {
      "text/plain": [
       "[(0,1), (0,2), (0,4), (0,7), (0,8), (0,11), (0,13), (0,14), (1,0), (1,1)]"
      ]
     },
     "execution_count": 35,
     "metadata": {},
     "output_type": "execute_result"
    }
   ],
   "source": [
    "M = G1_15.modular_symbols()\n",
    "\n",
    "manin = M.manin_generators()\n",
    "\n",
    "# number of cosets\n",
    "assert len(manin) == G1_15.index()\n",
    "\n",
    "# first 10 manin symbols\n",
    "manin[:10]"
   ]
  },
  {
   "cell_type": "code",
   "execution_count": 36,
   "metadata": {},
   "outputs": [
    {
     "data": {
      "text/plain": [
       "[\n",
       "[1 0]  [-7 -8]  [ 4  5]  [-2 -3]  [ 2  3]  [-4 -7]  [ 7 13]  [-1 -2]\n",
       "[0 1], [15 17], [15 19], [15 22], [15 23], [15 26], [15 28], [15 29],\n",
       "\n",
       "[ 0 -1]  [ -8   7]\n",
       "[ 1  0], [ 17 -15]\n",
       "]"
      ]
     },
     "execution_count": 36,
     "metadata": {},
     "output_type": "execute_result"
    }
   ],
   "source": [
    "# first 10 coset representatives\n",
    "coset_reps = G1_15.coset_reps()\n",
    "[next(coset_reps) for _ in range(10)]"
   ]
  },
  {
   "cell_type": "markdown",
   "metadata": {},
   "source": [
    "Notice how, $mod N$, where $N=15$ in our case, the $(c,d)$ piece of the matrix, matches with the Manin symbol. Here the confirmation:"
   ]
  },
  {
   "cell_type": "code",
   "execution_count": 37,
   "metadata": {},
   "outputs": [
    {
     "data": {
      "text/plain": [
       "[-7, -8, 15, 17]"
      ]
     },
     "execution_count": 37,
     "metadata": {},
     "output_type": "execute_result"
    }
   ],
   "source": [
    "manin[1].lift_to_sl2z()"
   ]
  },
  {
   "cell_type": "code",
   "execution_count": 38,
   "metadata": {},
   "outputs": [
    {
     "data": {
      "text/plain": [
       "((8,0),\n",
       " (11,0),\n",
       " (13,0),\n",
       " (13,5),\n",
       " (13,10),\n",
       " (13,11),\n",
       " (14,0),\n",
       " (14,3),\n",
       " (14,4),\n",
       " (14,5),\n",
       " (14,6),\n",
       " (14,8),\n",
       " (14,9),\n",
       " (14,10),\n",
       " (14,11),\n",
       " (14,12),\n",
       " (14,13))"
      ]
     },
     "execution_count": 38,
     "metadata": {},
     "output_type": "execute_result"
    }
   ],
   "source": [
    "G1_15.modular_symbols().gens()  # the modular symbols do have relations, hence their number is not 192"
   ]
  },
  {
   "cell_type": "markdown",
   "metadata": {},
   "source": [
    "## Geometry of modular curves\n",
    "\n",
    "The upper-half plane $\\mathfrak h$ is the definition domain of modular forms.\n",
    "\n",
    "Due to the symmetries modular forms have, one can think of quotienting the upper-half plane by the symmetry group of the forms.\n",
    "\n",
    "The resulting geometric object is an abelian variety (i.e. a variety with a group operations on points) $Y(\\Gamma)$. The dimension is 1.\n",
    "\n",
    "If we also include the line $x=0$ in $\\mathfrak h$, we will be adding the cusp points (see below), resulting in the **compactification** of $Y(\\Gamma)$ to $X(\\Gamma)$."
   ]
  },
  {
   "cell_type": "code",
   "execution_count": 39,
   "metadata": {},
   "outputs": [],
   "source": [
    "G1_15=Gamma1(15)"
   ]
  },
  {
   "cell_type": "code",
   "execution_count": 40,
   "metadata": {},
   "outputs": [
    {
     "data": {
      "text/plain": [
       "[0,\n",
       " 2/15,\n",
       " 1/7,\n",
       " 1/6,\n",
       " 1/5,\n",
       " 1/4,\n",
       " 4/15,\n",
       " 1/3,\n",
       " 2/5,\n",
       " 7/15,\n",
       " 1/2,\n",
       " 3/5,\n",
       " 2/3,\n",
       " 4/5,\n",
       " 5/6,\n",
       " Infinity]"
      ]
     },
     "execution_count": 40,
     "metadata": {},
     "output_type": "execute_result"
    }
   ],
   "source": [
    "G1_15.cusps()"
   ]
  },
  {
   "cell_type": "code",
   "execution_count": 41,
   "metadata": {},
   "outputs": [
    {
     "data": {
      "image/png": "[encoded data removed]",
      "text/plain": [
       "Graphics object consisting of 418 graphics primitives"
      ]
     },
     "execution_count": 41,
     "metadata": {},
     "output_type": "execute_result"
    }
   ],
   "source": [
    "# the fundamental domain is the plot of the modular curve on the plane, with ssome sides identified\n",
    "FareySymbol(G1_15).fundamental_domain()"
   ]
  },
  {
   "cell_type": "markdown",
   "metadata": {},
   "source": [
    "The colors of the boundaries of the fundamental domain plot, tell us how the points should be indetified to produce the algebraic curve."
   ]
  },
  {
   "cell_type": "code",
   "execution_count": 42,
   "metadata": {},
   "outputs": [
    {
     "data": {
      "text/plain": [
       "1"
      ]
     },
     "execution_count": 42,
     "metadata": {},
     "output_type": "execute_result"
    }
   ],
   "source": [
    "Gamma1(15).genus()  # the corresponding modular curve would be an elliptic curve"
   ]
  },
  {
   "cell_type": "code",
   "execution_count": 43,
   "metadata": {},
   "outputs": [],
   "source": [
    "J1_15 = G1_15.modular_abelian_variety()  # get the modular curve\n",
    "assert J1_15.conductor() == 15 \n"
   ]
  },
  {
   "cell_type": "code",
   "execution_count": 44,
   "metadata": {},
   "outputs": [
    {
     "data": {
      "text/plain": [
       "Integral Homology of Abelian variety J1(15) of dimension 1"
      ]
     },
     "execution_count": 44,
     "metadata": {},
     "output_type": "execute_result"
    }
   ],
   "source": [
    "H_1 = J1_15.integral_homology(); H_1  # homology over C"
   ]
  },
  {
   "cell_type": "code",
   "execution_count": 45,
   "metadata": {},
   "outputs": [],
   "source": [
    "ell_curv = J1_15.elliptic_curve()  # elliptic curve representation"
   ]
  },
  {
   "cell_type": "code",
   "execution_count": 46,
   "metadata": {},
   "outputs": [
    {
     "data": {
      "image/png": "[encoded data removed]",
      "text/plain": [
       "Graphics object consisting of 2 graphics primitives"
      ]
     },
     "execution_count": 46,
     "metadata": {},
     "output_type": "execute_result"
    }
   ],
   "source": [
    "ell_curv.plot()"
   ]
  },
  {
   "cell_type": "code",
   "execution_count": 47,
   "metadata": {},
   "outputs": [],
   "source": [
    "assert G1_15.genus() == G1_15.dimension_cusp_forms()"
   ]
  },
  {
   "cell_type": "code",
   "execution_count": 48,
   "metadata": {},
   "outputs": [
    {
     "data": {
      "text/plain": [
       "0"
      ]
     },
     "execution_count": 48,
     "metadata": {},
     "output_type": "execute_result"
    }
   ],
   "source": [
    "SL2Z.genus()"
   ]
  },
  {
   "cell_type": "markdown",
   "metadata": {},
   "source": [
    "### Coverings and newforms\n",
    "\n",
    "Can we ddefine maps between $X(N)$ and $X(M)$ for $M | N$? Yes annd these are the degeneracy maps ad geometrically corresponds to coverings:\n",
    "    \n",
    "$$\\beta_t:X(\\Gamma_0(N)) \\to X(\\Gamma_0(M)).$$\n",
    "It is actually easier to build the section map:\n",
    "$$\\alpha_t:X(\\Gamma_0(M)) \\to X(\\Gamma_0(N)), q \\mapsto q^t,$$\n",
    "\n",
    "where $t | N/M$. The section map called $\\alpha_t$ and it is actually the one we are going to compute.\n",
    "\n",
    "The image of $\\alpha_t$ generates a subspace in $M_k(\\Gamma_0(N))$ called the *new forms*. These forms will be eigenforms of the Hecke operators $T_p, p \\nmid N$(see below). "
   ]
  },
  {
   "cell_type": "code",
   "execution_count": 49,
   "metadata": {},
   "outputs": [
    {
     "data": {
      "text/plain": [
       "Congruence Subgroup Gamma0(66)"
      ]
     },
     "execution_count": 49,
     "metadata": {},
     "output_type": "execute_result"
    }
   ],
   "source": [
    "mf1 = ModularForms(66)\n",
    "mf2 = ModularForms(22)\n",
    "\n",
    "mf1.group()"
   ]
  },
  {
   "cell_type": "code",
   "execution_count": 50,
   "metadata": {},
   "outputs": [
    {
     "data": {
      "text/plain": [
       "Hecke module morphism degeneracy map corresponding to f(q) |--> f(q^3) defined by the matrix\n",
       "[ 0  0  1  0  0  0  0  0 -1  0  0  0  0  0  0  0]\n",
       "[ 0  0  0  0  0  1  0  0  0  0  0  0  0  0  0  0]\n",
       "[ 0  0  0  0  0  0  0  0  0  1  0  0  0  0  0  0]\n",
       "[ 0  0  0  0  0  0  0  0  0  0  0  0  1  0  0  0]\n",
       "[ 0  0  0  0  0  0  0  0  0  0  0  0  0  1  0  0]\n",
       "Domain: Modular Forms space of dimension 5 for Congruence Subgroup Gamma0(22) ...\n",
       "Codomain: Modular Forms space of dimension 16 for Congruence Subgroup Gamma0(66) ..."
      ]
     },
     "execution_count": 50,
     "metadata": {},
     "output_type": "execute_result"
    }
   ],
   "source": [
    "\n",
    "\n",
    "mf2.degeneracy_map(mf1,t=3)  # there is also the inverse map, but it is not implemented yet"
   ]
  },
  {
   "cell_type": "code",
   "execution_count": 51,
   "metadata": {},
   "outputs": [
    {
     "data": {
      "text/plain": [
       "Modular Forms subspace of dimension 3 of Modular Forms space of dimension 16 for Congruence Subgroup Gamma0(66) of weight 2 over Rational Field"
      ]
     },
     "execution_count": 51,
     "metadata": {},
     "output_type": "execute_result"
    }
   ],
   "source": [
    "# the nnew form subspace\n",
    "nf = mf1.new_subspace()\n",
    "nf"
   ]
  },
  {
   "cell_type": "code",
   "execution_count": 52,
   "metadata": {},
   "outputs": [
    {
     "data": {
      "text/plain": [
       "[\n",
       "q + q^4 + q^5 + O(q^6),\n",
       "q^2 - 2*q^5 + O(q^6),\n",
       "q^3 - 3*q^5 + O(q^6)\n",
       "]"
      ]
     },
     "execution_count": 52,
     "metadata": {},
     "output_type": "execute_result"
    }
   ],
   "source": [
    "nf.q_expansion_basis()"
   ]
  },
  {
   "cell_type": "markdown",
   "metadata": {},
   "source": [
    "### Period mappings\n",
    "\n",
    "Let $f$ be a newform and $P\\{\\alpha,\\beta\\}$ a modular symbol. Given the above interpretation of modular symbols, we can hope to integrate the newform over a path on the modular curve (i.e. the standard pairing of homology and cohomology):\n",
    "\n",
    "$$\\Phi_f(P\\{\\alpha,\\beta\\}) = \\langle f,\\, P\\{\\alpha,\\beta\\} \\rangle = \\int_{\\alpha}^{\\beta} f(z) P(z,1) d z,$$\n",
    "\n",
    "Newforms form a finite vector space within the cusp forms:\n",
    "\n",
    "$$V_f = \\mathbb C f_1 \\oplus \\cdots \\oplus \\mathbb C f_d \\subset S_k(\\Gamma)$$\n",
    "\n",
    "$$\\Phi_f : M_k(\\Gamma) \\to V_f^* = Hom_{\\mathbb C}(V_f,\\mathbb C), f \\mapsto (f \\mapsto \\int_{\\alpha}^{\\beta} f(z) P(z,1) d z)$$\n",
    "\n",
    "The newform abelian variety can then be defined as the period domai, i.e. the quotient of the ring generated by the cusp forms over the lattice of relations generated by the period mapping:\n",
    "\n",
    "$$A_f(\\mathbb C) = V_f^*/\\Phi_f(S_k(\\Gamma;\\mathbb Z)).$$"
   ]
  },
  {
   "cell_type": "code",
   "execution_count": 53,
   "metadata": {},
   "outputs": [
    {
     "data": {
      "text/plain": [
       "((1,0), (1,8), (1,9))"
      ]
     },
     "execution_count": 53,
     "metadata": {},
     "output_type": "execute_result"
    }
   ],
   "source": [
    "ms = ModularSymbols(11, 2)\n",
    "ms.gens()"
   ]
  },
  {
   "cell_type": "code",
   "execution_count": 54,
   "metadata": {},
   "outputs": [
    {
     "name": "stdout",
     "output_type": "stream",
     "text": [
      "((1,8), (1,9))\n"
     ]
    },
    {
     "data": {
      "text/plain": [
       "[  0 1/5]\n",
       "[  1   0]\n",
       "[  0   1]"
      ]
     },
     "execution_count": 54,
     "metadata": {},
     "output_type": "execute_result"
    }
   ],
   "source": [
    "cusp_sub = ms.cuspidal_submodule()\n",
    "\n",
    "print(cusp_sub.gens())\n",
    "periods = cusp_sub.integral_period_mapping()\n",
    "periods.matrix()  # this matrix defines the lattice to quotient by to get A_f"
   ]
  },
  {
   "cell_type": "code",
   "execution_count": 55,
   "metadata": {},
   "outputs": [
    {
     "data": {
      "text/plain": [
       "Modular Symbols space of dimension 3 for Gamma_0(11) of weight 2 with sign 0 over Rational Field"
      ]
     },
     "execution_count": 55,
     "metadata": {},
     "output_type": "execute_result"
    }
   ],
   "source": [
    "periods.domain()"
   ]
  },
  {
   "cell_type": "code",
   "execution_count": 56,
   "metadata": {},
   "outputs": [
    {
     "data": {
      "text/plain": [
       "Abelian variety J0(11) of dimension 1"
      ]
     },
     "execution_count": 56,
     "metadata": {},
     "output_type": "execute_result"
    }
   ],
   "source": [
    "vary = cusp_sub.abelian_variety(); vary"
   ]
  },
  {
   "cell_type": "code",
   "execution_count": 57,
   "metadata": {},
   "outputs": [
    {
     "data": {
      "image/png": "[encoded data removed]",
      "text/plain": [
       "Graphics object consisting of 1 graphics primitive"
      ]
     },
     "execution_count": 57,
     "metadata": {},
     "output_type": "execute_result"
    }
   ],
   "source": [
    "vary.elliptic_curve().plot()"
   ]
  },
  {
   "cell_type": "code",
   "execution_count": 58,
   "metadata": {},
   "outputs": [
    {
     "data": {
      "image/png": "[encoded data removed]",
      "text/plain": [
       "Graphics object consisting of 54 graphics primitives"
      ]
     },
     "execution_count": 58,
     "metadata": {},
     "output_type": "execute_result"
    }
   ],
   "source": [
    "fs = FareySymbol(cusp_sub.group())\n",
    "fs.fundamental_domain()"
   ]
  },
  {
   "cell_type": "code",
   "execution_count": 59,
   "metadata": {},
   "outputs": [
    {
     "data": {
      "text/plain": [
       "[0, Infinity]"
      ]
     },
     "execution_count": 59,
     "metadata": {},
     "output_type": "execute_result"
    }
   ],
   "source": [
    "fs.cusps()"
   ]
  },
  {
   "cell_type": "markdown",
   "metadata": {},
   "source": [
    "## Hecke operators\n",
    "\n",
    "Hecke operators $T_n$ can (almost) be defined over the Fourier expansion of a modular form:\n",
    "$$a_1(T_n(f)) = a_n(f),$$\n",
    "where $a_n(f)$ is the $n$-th Fourier coefficient of $f$.\n",
    "\n",
    "There are many beautiful properties associated to these operators:\n",
    " 0. Hecke operators are linear\n",
    " 1. $T_n$ stabilise the space of cusp forms\n",
    " 2. $T_n$ over eisenstein forms acts diagonally\n",
    " 3. $T_n$ stabilised teh space of new forms\n",
    " 4. Hecke operators commute\n",
    " \n",
    "Furthermore, these operators can be represented as matrices over the space of modular forms."
   ]
  },
  {
   "cell_type": "code",
   "execution_count": 60,
   "metadata": {},
   "outputs": [],
   "source": [
    "mf = ModularForms(17,4,prec=12)"
   ]
  },
  {
   "cell_type": "code",
   "execution_count": 61,
   "metadata": {},
   "outputs": [
    {
     "data": {
      "text/plain": [
       "Hecke operator T_2 on Modular Forms space of dimension 6 for Congruence Subgroup Gamma0(17) of weight 4 over Rational Field"
      ]
     },
     "execution_count": 61,
     "metadata": {},
     "output_type": "execute_result"
    }
   ],
   "source": [
    "T2 = mf.hecke_operator(2)\n",
    "T3 = mf.hecke_operator(3)\n",
    "assert T3*T2 - T2*T3 == 0\n",
    "T2"
   ]
  },
  {
   "cell_type": "code",
   "execution_count": 62,
   "metadata": {},
   "outputs": [
    {
     "data": {
      "text/plain": [
       "(x + 3) * (x - 9)^2 * (x^3 - x^2 - 24*x + 32)"
      ]
     },
     "execution_count": 62,
     "metadata": {},
     "output_type": "execute_result"
    }
   ],
   "source": [
    "T2.charpoly().factor()"
   ]
  },
  {
   "cell_type": "code",
   "execution_count": 63,
   "metadata": {},
   "outputs": [
    {
     "data": {
      "text/plain": [
       "[   0    8    0   -8    0    0]\n",
       "[   1    0 -7/2    9    0    0]\n",
       "[   0    0   -2   -4    0    0]\n",
       "[   0    1 -5/2    0    0    0]\n",
       "[   0    0    0    0    9    0]\n",
       "[   0    0    0    0    0    9]"
      ]
     },
     "execution_count": 63,
     "metadata": {},
     "output_type": "execute_result"
    }
   ],
   "source": [
    "T2.matrix()"
   ]
  },
  {
   "cell_type": "markdown",
   "metadata": {},
   "source": [
    "### Hecke-Eigenspaces\n",
    "\n",
    "We see above that `T2` is block diagonal!\n",
    "Does the second block corresponds to Eisenstein series?"
   ]
  },
  {
   "cell_type": "code",
   "execution_count": 64,
   "metadata": {},
   "outputs": [],
   "source": [
    "\n",
    "ef = mf.eisenstein_subspace()"
   ]
  },
  {
   "cell_type": "code",
   "execution_count": 65,
   "metadata": {},
   "outputs": [
    {
     "data": {
      "text/plain": [
       "[9 0]\n",
       "[0 9]"
      ]
     },
     "execution_count": 65,
     "metadata": {},
     "output_type": "execute_result"
    }
   ],
   "source": [
    "ef.hecke_matrix(2)  # indeed! with eigenvalue 9"
   ]
  },
  {
   "cell_type": "markdown",
   "metadata": {},
   "source": [
    "Indeed we see here that the Eisenstein series are an eigenspace of Hecke operators. Is the complement the cusp forms?"
   ]
  },
  {
   "cell_type": "code",
   "execution_count": 66,
   "metadata": {},
   "outputs": [
    {
     "data": {
      "text/plain": [
       "[   0    8    0   -8]\n",
       "[   1    0 -7/2    9]\n",
       "[   0    0   -2   -4]\n",
       "[   0    1 -5/2    0]"
      ]
     },
     "execution_count": 66,
     "metadata": {},
     "output_type": "execute_result"
    }
   ],
   "source": [
    "cf = mf.cuspidal_subspace()\n",
    "cf.hecke_matrix(2)"
   ]
  },
  {
   "cell_type": "code",
   "execution_count": 67,
   "metadata": {},
   "outputs": [
    {
     "data": {
      "text/plain": [
       "[\n",
       "Modular Forms subspace of dimension 1 of Modular Forms space of dimension 6 for Congruence Subgroup Gamma0(17) of weight 4 over Rational Field,\n",
       "Modular Forms subspace of dimension 2 of Modular Forms space of dimension 6 for Congruence Subgroup Gamma0(17) of weight 4 over Rational Field,\n",
       "Modular Forms subspace of dimension 3 of Modular Forms space of dimension 6 for Congruence Subgroup Gamma0(17) of weight 4 over Rational Field\n",
       "]"
      ]
     },
     "execution_count": 67,
     "metadata": {},
     "output_type": "execute_result"
    }
   ],
   "source": [
    "# done properly\n",
    "dec = T2.decomposition(); dec"
   ]
  },
  {
   "cell_type": "code",
   "execution_count": 68,
   "metadata": {
    "scrolled": true
   },
   "outputs": [
    {
     "data": {
      "text/plain": [
       "[[\n",
       " q - 3*q^2 - 8*q^3 + q^4 + 6*q^5 + 24*q^6 - 28*q^7 + 21*q^8 + 37*q^9 - 18*q^10 - 24*q^11 + O(q^12)\n",
       " ], [\n",
       " 1 + O(q^12),\n",
       " q + 9*q^2 + 28*q^3 + 73*q^4 + 126*q^5 + 252*q^6 + 344*q^7 + 585*q^8 + 757*q^9 + 1134*q^10 + 1332*q^11 + O(q^12)\n",
       " ], [\n",
       " q + 16*q^4 - 6*q^5 - 40*q^6 + 16*q^7 - 8*q^8 + 39*q^9 - 32*q^10 - 28*q^11 + O(q^12),\n",
       " q^2 - 7*q^4 + 2*q^5 + 14*q^6 - 6*q^7 + q^8 - 18*q^9 + 8*q^10 + 20*q^11 + O(q^12),\n",
       " q^3 - 4*q^4 + 2*q^5 + 8*q^6 - 5*q^7 - 4*q^8 - 10*q^9 + 8*q^10 + 9*q^11 + O(q^12)\n",
       " ]]"
      ]
     },
     "execution_count": 68,
     "metadata": {},
     "output_type": "execute_result"
    }
   ],
   "source": [
    "[dec[i].gens() for i in range(len(dec))]"
   ]
  },
  {
   "cell_type": "markdown",
   "metadata": {},
   "source": [
    "We conclude that the two spaces are stabilised by the action of the Hecke operators.\n",
    "\n",
    "We could also have checked the *modular symbol* spaces as well."
   ]
  },
  {
   "cell_type": "code",
   "execution_count": 69,
   "metadata": {},
   "outputs": [
    {
     "data": {
      "text/plain": [
       "[\n",
       "[1 0 0 0 0 0 0 0]  [ 25/2 -87/4     3  33/2 -67/4  65/4 -99/4 125/4]\n",
       "[0 1 0 0 0 0 0 0]  [   14   -26    11    10   -19    20   -26    33]\n",
       "[0 0 1 0 0 0 0 0]  [   14 -53/2    12    12 -43/2  35/2 -43/2  63/2]\n",
       "[0 0 0 1 0 0 0 0]  [ 25/2 -97/4    13  13/2 -57/4  39/4 -49/4  99/4]\n",
       "[0 0 0 0 1 0 0 0]  [ 17/2 -61/4     7   7/2 -25/4  11/4 -21/4  71/4]\n",
       "[0 0 0 0 0 1 0 0]  [ 11/2 -45/4     7   1/2  -5/4  -5/4 -17/4  63/4]\n",
       "[0 0 0 0 0 0 1 0]  [  9/2 -45/4     7  -1/2   7/4  -5/4 -21/4  55/4]\n",
       "[0 0 0 0 0 0 0 1], [  3/2 -17/4     4  -7/2  11/4  -1/4  -5/4  15/4],\n",
       "\n",
       "[    -8   77/2    -35     11  -31/2   29/2   21/2  -61/2]\n",
       "[    -6     30    -31     14    -11      7      4     -9]\n",
       "[   1/2   67/4    -24   25/2  -53/4   55/4  -57/4   67/4]\n",
       "[     5    7/2    -12     11  -31/2   35/2  -63/2   75/2]\n",
       "[  25/2  -61/4      3   25/2 -105/4  107/4 -177/4  215/4]\n",
       "[  25/2  -91/4     18   -5/2  -55/4   69/4 -143/4  197/4]\n",
       "[  -3/2   11/4      7  -19/2   -1/4   11/4  -17/4   15/4]\n",
       "[  -7/2   21/4      1   -5/2    5/4   -7/4    9/4  -15/4],\n",
       "\n",
       "[ -51/2  129/4     -3  -31/2  125/4 -247/4  397/4 -355/4]\n",
       "[   -29   93/2    -25      9   39/2 -111/2  161/2 -165/2]\n",
       "[   -14   29/2    -10     22    3/2  -75/2   99/2  -91/2]\n",
       "[ -11/2  -13/4     -7   57/2   11/4 -133/4  115/4  -57/4]\n",
       "[  -1/2  -43/4     -3   29/2   57/4 -115/4   77/4  -15/4]\n",
       "[   5/2  -43/4     -1   15/2   37/4  -67/4   57/4  -31/4]\n",
       "[  -9/2   37/4    -11    5/2   57/4  -99/4  141/4 -127/4]\n",
       "[ -13/2   63/4    -16    9/2   43/4  -65/4   75/4  -81/4]\n",
       "]"
      ]
     },
     "execution_count": 69,
     "metadata": {},
     "output_type": "execute_result"
    }
   ],
   "source": [
    "ms = mf.modular_symbols()\n",
    "msc = ms.cuspidal_submodule()\n",
    "[msc.T(i).matrix() for i in range(1,5)]"
   ]
  },
  {
   "cell_type": "markdown",
   "metadata": {},
   "source": [
    "### Hecke operators on homology\n",
    "\n",
    "One can consider the induced action of the Hecke operators on thehomology of the modular curves $X(\\Gamma_1(N))$. This is a example on how to do it."
   ]
  },
  {
   "cell_type": "code",
   "execution_count": 70,
   "metadata": {},
   "outputs": [],
   "source": [
    "G1_15 = Gamma1(15)\n",
    "J1_15 = G1_15.modular_abelian_variety()"
   ]
  },
  {
   "cell_type": "code",
   "execution_count": 71,
   "metadata": {},
   "outputs": [
    {
     "data": {
      "text/plain": [
       "Integral Homology of Abelian variety J1(15) of dimension 1"
      ]
     },
     "execution_count": 71,
     "metadata": {},
     "output_type": "execute_result"
    }
   ],
   "source": [
    "H_1 = J1_15.integral_homology(); H_1"
   ]
  },
  {
   "cell_type": "code",
   "execution_count": 72,
   "metadata": {},
   "outputs": [
    {
     "data": {
      "text/plain": [
       "[-1  0]\n",
       "[ 0 -1]"
      ]
     },
     "execution_count": 72,
     "metadata": {},
     "output_type": "execute_result"
    }
   ],
   "source": [
    "H_1.T(2).matrix()  # Hecke operator acting onhomology"
   ]
  },
  {
   "cell_type": "code",
   "execution_count": 73,
   "metadata": {},
   "outputs": [],
   "source": [
    "mf = ModularForms(G1_15)\n",
    "nf = mf.new_subspace()  # from a degeneracy map 3 --> 15\n"
   ]
  },
  {
   "cell_type": "code",
   "execution_count": 74,
   "metadata": {},
   "outputs": [
    {
     "name": "stdout",
     "output_type": "stream",
     "text": [
      "(x - 1)^2 * (x - 3)^3 * (x + 1)^3 * (x^2 - 4*x + 5) * (x^2 - 2*x + 5) * (x^2 + 2*x + 5) * (x^2 + 4*x + 5)\n",
      "(x + 1) * (x^2 - 4*x + 5) * (x^2 - 2*x + 5) * (x^2 + 2*x + 5) * (x^2 + 4*x + 5)\n"
     ]
    }
   ],
   "source": [
    "print(mf.T(2).charpoly().factor())\n",
    "print(nf.T(2).charpoly().factor())  # 2 does not divide 15, hence the eigenspaces have all dimensions 1"
   ]
  },
  {
   "cell_type": "code",
   "execution_count": 75,
   "metadata": {},
   "outputs": [
    {
     "name": "stdout",
     "output_type": "stream",
     "text": [
      "(x + 1)^2 * (x + 5)^2 * (x - 5)^5 * (x - 1)^7\n",
      "(x - 5)^2 * (x + 1)^2 * (x + 5)^2 * (x - 1)^3\n"
     ]
    }
   ],
   "source": [
    "print(mf.T(5).charpoly().factor())\n",
    "print(nf.T(5).charpoly().factor())  # since 3 | 15, the dimensios ofthe eigenspaces are not all 1"
   ]
  },
  {
   "cell_type": "markdown",
   "metadata": {},
   "source": [
    "From the characteristic polynomial, we see that the space of new forms is composed of eigenspaces of the Hecke operator."
   ]
  },
  {
   "cell_type": "markdown",
   "metadata": {},
   "source": [
    "## Diamond operator\n",
    "\n",
    "There is another kind of operators -- that is actually expresssible as a combination of Hecke operators -- that can help us understand the structure of the spce of modular forms: the *diamond operator*.\n",
    "\n",
    "Given $d \\in \\mathbb Z/N\\mathbb Z$ one can build a matrix in the modular group (or congruence subgroup) $((a,b),(c,d'))$ such that $((a,b),(c,d')) = ((d,0),(0,d^{-1}))$ $mod N$. The action of this matrix on the space of modular forms induce a decomposition of such space into eigenspaces for this action (the eigenspaces of the diamond operator!). \n",
    "For the subgroup $\\Gamma_1(N)$, the eigenvalues are Dirichlet characters $\\epsilon$, and the eiegnspaces are called $M_k(\\Gamma_1(N),\\epsilon)$."
   ]
  },
  {
   "cell_type": "code",
   "execution_count": 76,
   "metadata": {},
   "outputs": [],
   "source": [
    "NN = 7\n",
    "mf = ModularForms(Gamma1(NN),2)"
   ]
  },
  {
   "cell_type": "code",
   "execution_count": 77,
   "metadata": {},
   "outputs": [
    {
     "data": {
      "text/plain": [
       "Hecke module morphism defined by the matrix\n",
       "[  -47   -84  -420  -420 -1260]\n",
       "[  -13   -24  -120  -115  -355]\n",
       "[    2     4    19    18    57]\n",
       "[    3     5    27    25    81]\n",
       "[    1     2     9    10    26]\n",
       "Domain: Modular Forms space of dimension 5 for Congruence Subgroup Gamma1(7) ...\n",
       "Codomain: Modular Forms space of dimension 5 for Congruence Subgroup Gamma1(7) ..."
      ]
     },
     "execution_count": 77,
     "metadata": {},
     "output_type": "execute_result"
    }
   ],
   "source": [
    "diamond = mf.diamond_bracket_operator(2)\n",
    "morph = diamond.hecke_module_morphism()\n",
    "morph"
   ]
  },
  {
   "cell_type": "code",
   "execution_count": 78,
   "metadata": {},
   "outputs": [
    {
     "data": {
      "text/plain": [
       "x^5 + x^4 + x^3 - x^2 - x - 1"
      ]
     },
     "execution_count": 78,
     "metadata": {},
     "output_type": "execute_result"
    }
   ],
   "source": [
    "morph.charpoly()"
   ]
  },
  {
   "cell_type": "code",
   "execution_count": 79,
   "metadata": {},
   "outputs": [],
   "source": [
    "DG = DirichletGroup(NN)\n",
    "[m1,m2,m3,m4,m5,m6] = [ModularForms(eps, 2).diamond_bracket_matrix(2) for eps in DG]"
   ]
  },
  {
   "cell_type": "code",
   "execution_count": 80,
   "metadata": {},
   "outputs": [
    {
     "data": {
      "text/plain": [
       "x^5 + x^4 + x^3 - x^2 - x - 1"
      ]
     },
     "execution_count": 80,
     "metadata": {},
     "output_type": "execute_result"
    }
   ],
   "source": [
    "m1.block_sum(m2).block_sum(m3).block_sum(m4).block_sum(m5).block_sum(m6).charpoly()"
   ]
  },
  {
   "cell_type": "markdown",
   "metadata": {},
   "source": [
    "We clearly see that the modular forms with characters are the blocks of the decomposition of the wholee space of modular forms."
   ]
  },
  {
   "cell_type": "markdown",
   "metadata": {},
   "source": [
    "## Dirichlet characters\n",
    "\n",
    "A Dirichlet character is a multiplicative homorphism from the group $(\\mathbb Z/N\\mathbb Z)^\\times \\to \\mathbb C$. All the characters together form the Dirichlet group $DG(N,\\mathbb C)$. These very general objects are very important when studying the spaces of modular forms, because they are eigenvalues of the diamond operators.\n",
    "\n",
    "#### Reminder\n",
    "$$(\\mathbb Z/N\\mathbb Z)^\\times = \\{p \\in \\mathbb Z/N\\mathbb Z | gcd(n,p)=1\\}$$\n",
    "\n",
    "### Modular form decompostions\n",
    "\n",
    "The eigenspaces of the diamond operator decompose the space of modular forms as follows:\n",
    "\n",
    "$$M_k(\\Gamma_1(N)) = \\bigoplus_{\\epsilon \\in DG(N,\\mathbb C)}M_k(\\Gamma_1(N),\\epsilon)$$\n",
    "\n",
    "The eigenvalues of such operators in each subspace is the Dirichlet character."
   ]
  },
  {
   "cell_type": "code",
   "execution_count": 81,
   "metadata": {},
   "outputs": [],
   "source": [
    "NN = 20\n",
    "mf = ModularForms(Gamma1(NN),2)"
   ]
  },
  {
   "cell_type": "code",
   "execution_count": 82,
   "metadata": {},
   "outputs": [
    {
     "data": {
      "text/plain": [
       "[Dirichlet character modulo 20 of conductor 1 mapping 11 |--> 1, 17 |--> 1,\n",
       " Dirichlet character modulo 20 of conductor 4 mapping 11 |--> -1, 17 |--> 1,\n",
       " Dirichlet character modulo 20 of conductor 5 mapping 11 |--> 1, 17 |--> zeta4,\n",
       " Dirichlet character modulo 20 of conductor 20 mapping 11 |--> -1, 17 |--> zeta4,\n",
       " Dirichlet character modulo 20 of conductor 5 mapping 11 |--> 1, 17 |--> -1,\n",
       " Dirichlet character modulo 20 of conductor 20 mapping 11 |--> -1, 17 |--> -1,\n",
       " Dirichlet character modulo 20 of conductor 5 mapping 11 |--> 1, 17 |--> -zeta4,\n",
       " Dirichlet character modulo 20 of conductor 20 mapping 11 |--> -1, 17 |--> -zeta4]"
      ]
     },
     "execution_count": 82,
     "metadata": {},
     "output_type": "execute_result"
    }
   ],
   "source": [
    "DG = DirichletGroup(NN)\n",
    "list(DG)"
   ]
  },
  {
   "cell_type": "code",
   "execution_count": 83,
   "metadata": {},
   "outputs": [
    {
     "data": {
      "text/plain": [
       "(-1, 1)"
      ]
     },
     "execution_count": 83,
     "metadata": {},
     "output_type": "execute_result"
    }
   ],
   "source": [
    "g = DG.0\n",
    "g.values_on_gens()  # values of the charracter on the generators of Z/NZ"
   ]
  },
  {
   "cell_type": "code",
   "execution_count": 84,
   "metadata": {},
   "outputs": [
    {
     "data": {
      "text/plain": [
       "(Dirichlet character modulo 20 of conductor 4 mapping 11 |--> -1, 17 |--> 1,\n",
       " Dirichlet character modulo 20 of conductor 5 mapping 11 |--> 1, 17 |--> zeta4)"
      ]
     },
     "execution_count": 84,
     "metadata": {},
     "output_type": "execute_result"
    }
   ],
   "source": [
    "DG.gens()  # unique generator of the group"
   ]
  },
  {
   "cell_type": "code",
   "execution_count": 85,
   "metadata": {},
   "outputs": [
    {
     "data": {
      "text/plain": [
       "(11, 17)"
      ]
     },
     "execution_count": 85,
     "metadata": {},
     "output_type": "execute_result"
    }
   ],
   "source": [
    "# they match the generators in Z/NZ\n",
    "R = Integers(NN)\n",
    "R.unit_gens()"
   ]
  },
  {
   "cell_type": "code",
   "execution_count": 86,
   "metadata": {},
   "outputs": [
    {
     "data": {
      "image/png": "[encoded data removed]",
      "text/plain": [
       "Digraph on 8 vertices"
      ]
     },
     "execution_count": 86,
     "metadata": {},
     "output_type": "execute_result"
    }
   ],
   "source": [
    "DG.cayley_graph()"
   ]
  },
  {
   "cell_type": "markdown",
   "metadata": {},
   "source": [
    "The Galois group $Gal(\\bar F/F)$ act on the characters by $(g \\cdot \\epsilon)(n) = g \\dot (\\epsilon(n))$, as $\\epsilon(n) \\in \\bar F$."
   ]
  },
  {
   "cell_type": "code",
   "execution_count": 87,
   "metadata": {},
   "outputs": [
    {
     "data": {
      "text/plain": [
       "[\n",
       "[Dirichlet character modulo 20 of conductor 20 mapping 11 |--> -1, 17 |--> -1],\n",
       "[Dirichlet character modulo 20 of conductor 20 mapping 11 |--> -1, 17 |--> -zeta4, Dirichlet character modulo 20 of conductor 20 mapping 11 |--> -1, 17 |--> zeta4],\n",
       "[Dirichlet character modulo 20 of conductor 4 mapping 11 |--> -1, 17 |--> 1],\n",
       "[Dirichlet character modulo 20 of conductor 5 mapping 11 |--> 1, 17 |--> -1],\n",
       "[Dirichlet character modulo 20 of conductor 5 mapping 11 |--> 1, 17 |--> -zeta4, Dirichlet character modulo 20 of conductor 5 mapping 11 |--> 1, 17 |--> zeta4],\n",
       "[Dirichlet character modulo 20 of conductor 1 mapping 11 |--> 1, 17 |--> 1]\n",
       "]"
      ]
     },
     "execution_count": 87,
     "metadata": {},
     "output_type": "execute_result"
    }
   ],
   "source": [
    "DG.galois_orbits()"
   ]
  },
  {
   "cell_type": "code",
   "execution_count": 88,
   "metadata": {},
   "outputs": [
    {
     "data": {
      "text/plain": [
       "[(0, 0),\n",
       " (1, 1),\n",
       " (0, 0),\n",
       " (-1, -zeta4),\n",
       " (0, 0),\n",
       " (0, 0),\n",
       " (0, 0),\n",
       " (-1, zeta4),\n",
       " (0, 0),\n",
       " (1, -1),\n",
       " (0, 0),\n",
       " (-1, 1),\n",
       " (0, 0),\n",
       " (1, -zeta4),\n",
       " (0, 0),\n",
       " (0, 0),\n",
       " (0, 0),\n",
       " (1, zeta4),\n",
       " (0, 0),\n",
       " (-1, -1)]"
      ]
     },
     "execution_count": 88,
     "metadata": {},
     "output_type": "execute_result"
    }
   ],
   "source": [
    "# the value of the characters on the generators of Z/NZ\n",
    "eps1, eps2 = DG.0, DG.1\n",
    "[(eps1(i), eps2(i)) for i in range(NN)]"
   ]
  },
  {
   "cell_type": "code",
   "execution_count": 89,
   "metadata": {},
   "outputs": [
    {
     "data": {
      "text/plain": [
       "Modular Forms space of dimension 0, character [1, -zeta4] and weight 2 over Cyclotomic Field of order 4 and degree 2"
      ]
     },
     "execution_count": 89,
     "metadata": {},
     "output_type": "execute_result"
    }
   ],
   "source": [
    "M = ModularForms(eps2^3, 2); M"
   ]
  },
  {
   "cell_type": "code",
   "execution_count": 90,
   "metadata": {},
   "outputs": [
    {
     "data": {
      "text/plain": [
       "Dirichlet character modulo 20 of conductor 5 mapping 11 |--> 1, 17 |--> -zeta4"
      ]
     },
     "execution_count": 90,
     "metadata": {},
     "output_type": "execute_result"
    }
   ],
   "source": [
    "M.character()"
   ]
  },
  {
   "cell_type": "code",
   "execution_count": 91,
   "metadata": {},
   "outputs": [
    {
     "data": {
      "text/plain": [
       "[6, 0, 0, 5, 6, 0, 0, 5]"
      ]
     },
     "execution_count": 91,
     "metadata": {},
     "output_type": "execute_result"
    }
   ],
   "source": [
    "[ModularForms(eps, 2).dimension() for eps in DG]"
   ]
  },
  {
   "cell_type": "code",
   "execution_count": 92,
   "metadata": {},
   "outputs": [],
   "source": [
    "# decomposition theorem\n",
    "assert mf.dimension() == sum([ModularForms(eps, 2).dimension() for eps in DG])"
   ]
  },
  {
   "cell_type": "markdown",
   "metadata": {},
   "source": [
    "### Most general Eisenstein forms\n",
    "\n",
    "The followin is the most general form for the Eisenstein series, where $\\chi,\\psi$ are Dirichlet characters and, if we are starting from $M_k(N,\\epsilon)$, then $\\epsilon = \\chi\\psi$.\n",
    "\n",
    "$$ E_{k,\\chi,\\psi}(q) = c_0 + \\sum_{m \\geq 1} \\left( \\sum_{n|m} \\psi(n) \\cdot \\chi(m/n) \\cdot n^{k-1}\\right) q^{m} \\in \\mathbb Q(\\chi, \\psi)[[q]],$$\n"
   ]
  },
  {
   "cell_type": "code",
   "execution_count": 93,
   "metadata": {},
   "outputs": [
    {
     "data": {
      "text/plain": [
       "[\n",
       "1/2 + q + 3*q^2 + 4*q^3 + 7*q^4 + 6*q^5 + O(q^6),\n",
       "-7/13*zeta6 - 11/13 + q + (2*zeta6 + 1)*q^2 + (-3*zeta6 + 1)*q^3 + (6*zeta6 - 3)*q^4 - 4*q^5 + O(q^6),\n",
       "q + (zeta6 + 2)*q^2 + (-zeta6 + 3)*q^3 + (3*zeta6 + 3)*q^4 + 4*q^5 + O(q^6),\n",
       "-zeta6 + q + (2*zeta6 - 1)*q^2 + (3*zeta6 - 2)*q^3 + (-2*zeta6 - 1)*q^4 + 6*q^5 + O(q^6),\n",
       "q + (zeta6 + 1)*q^2 + (zeta6 + 2)*q^3 + (zeta6 + 2)*q^4 + 6*q^5 + O(q^6),\n",
       "-1 + q - q^2 + 4*q^3 + 3*q^4 - 4*q^5 + O(q^6),\n",
       "q + q^2 + 4*q^3 + 3*q^4 + 4*q^5 + O(q^6),\n",
       "zeta6 - 1 + q + (-2*zeta6 + 1)*q^2 + (-3*zeta6 + 1)*q^3 + (2*zeta6 - 3)*q^4 + 6*q^5 + O(q^6),\n",
       "q + (-zeta6 + 2)*q^2 + (-zeta6 + 3)*q^3 + (-zeta6 + 3)*q^4 + 6*q^5 + O(q^6),\n",
       "7/13*zeta6 - 18/13 + q + (-2*zeta6 + 3)*q^2 + (3*zeta6 - 2)*q^3 + (-6*zeta6 + 3)*q^4 - 4*q^5 + O(q^6),\n",
       "q + (-zeta6 + 3)*q^2 + (zeta6 + 2)*q^3 + (-3*zeta6 + 6)*q^4 + 4*q^5 + O(q^6)\n",
       "]"
      ]
     },
     "execution_count": 93,
     "metadata": {},
     "output_type": "execute_result"
    }
   ],
   "source": [
    "E = EisensteinForms(Gamma1(13),2)\n",
    "E.eisenstein_series()"
   ]
  },
  {
   "cell_type": "code",
   "execution_count": 94,
   "metadata": {
    "scrolled": false
   },
   "outputs": [
    {
     "data": {
      "text/plain": [
       "[(Dirichlet character modulo 13 of conductor 1 mapping 2 |--> 1,\n",
       "  Dirichlet character modulo 13 of conductor 1 mapping 2 |--> 1,\n",
       "  13),\n",
       " (Dirichlet character modulo 13 of conductor 1 mapping 2 |--> 1,\n",
       "  Dirichlet character modulo 13 of conductor 13 mapping 2 |--> zeta6,\n",
       "  1),\n",
       " (Dirichlet character modulo 13 of conductor 13 mapping 2 |--> zeta6,\n",
       "  Dirichlet character modulo 13 of conductor 1 mapping 2 |--> 1,\n",
       "  1),\n",
       " (Dirichlet character modulo 13 of conductor 1 mapping 2 |--> 1,\n",
       "  Dirichlet character modulo 13 of conductor 13 mapping 2 |--> zeta6 - 1,\n",
       "  1),\n",
       " (Dirichlet character modulo 13 of conductor 13 mapping 2 |--> zeta6 - 1,\n",
       "  Dirichlet character modulo 13 of conductor 1 mapping 2 |--> 1,\n",
       "  1),\n",
       " (Dirichlet character modulo 13 of conductor 1 mapping 2 |--> 1,\n",
       "  Dirichlet character modulo 13 of conductor 13 mapping 2 |--> -1,\n",
       "  1),\n",
       " (Dirichlet character modulo 13 of conductor 13 mapping 2 |--> -1,\n",
       "  Dirichlet character modulo 13 of conductor 1 mapping 2 |--> 1,\n",
       "  1),\n",
       " (Dirichlet character modulo 13 of conductor 1 mapping 2 |--> 1,\n",
       "  Dirichlet character modulo 13 of conductor 13 mapping 2 |--> -zeta6,\n",
       "  1),\n",
       " (Dirichlet character modulo 13 of conductor 13 mapping 2 |--> -zeta6,\n",
       "  Dirichlet character modulo 13 of conductor 1 mapping 2 |--> 1,\n",
       "  1),\n",
       " (Dirichlet character modulo 13 of conductor 1 mapping 2 |--> 1,\n",
       "  Dirichlet character modulo 13 of conductor 13 mapping 2 |--> -zeta6 + 1,\n",
       "  1),\n",
       " (Dirichlet character modulo 13 of conductor 13 mapping 2 |--> -zeta6 + 1,\n",
       "  Dirichlet character modulo 13 of conductor 1 mapping 2 |--> 1,\n",
       "  1)]"
      ]
     },
     "execution_count": 94,
     "metadata": {},
     "output_type": "execute_result"
    }
   ],
   "source": [
    "[eis.parameters() for eis in E.eisenstein_series()]  # chi, psi, t of the Eisenstein series"
   ]
  },
  {
   "cell_type": "markdown",
   "metadata": {},
   "source": [
    "## Appendix: Langlands correspondence\n",
    "\n",
    "\n",
    "### The problem\n",
    "We would like to know mor about $Gal(\\bar{\\mathbb Q}/\\mathbb Q)$. \n",
    "\n",
    "$\\mathbb Q^{ab}$ is the maximal abelian extension of $\\mathbb Q$. That is the closest thing we know about $\\bar {\\mathbb Q}$.\n",
    "$Gal(\\mathbb Q^{ab}/\\mathbb Q) = \\lim_{N \\to \\infty} (\\mathbb Z/N\\mathbb Z)^x = \\prod_p \\mathbb Z_p$ the p-adic numbers!\n",
    "\n",
    "Recall a p-adic number in $\\mathbb Q_p$ is $\\sum_{k \\in \\mathbb Z}a_kp^k$. $a_k \\in \\{0,1,…,p-1\\}$. If $a_k=0$ for $k\\leq 0$ we have the p-adic integers $\\mathbb Z_p$. The valuation of a p-adic number is $|\\frac{a}{b}p^k| = p^{-k}$\n",
    "\n",
    "### Adèles ring $A_Q$: \n",
    "It is the direct product of all $\\mathbb Q_p$ and $\\mathbb R$ (i.e. all the completions of $\\mathbb Q$, by *Ostrowski theorem*). We add the condition that all but a finite number of the elements in the direct product belong to $\\mathbb Z_p$. Thus an Adèle can be $(1,1+3,5^2,…,0)$.\n",
    "from the diagonal embedding $\\mathbb Q \\to A_Q,$ we can create the quotient $\\mathbb Q\\backslash A_Q ≃ \\prod_p \\mathbb Z_p \\times (\\mathbb R/\\mathbb Z)$ compact and actually\n",
    "$Gal(\\mathbb Q^{ab}/\\mathbb Q)$ is equivalent, as group, to the connected component to the identity of $\\mathbb Q^\\times\\backslash A_Q^\\times = \\prod_p \\mathbb Z_p^\\times$, as the element in $\\mathbb R/\\mathbb Z$ parametrise the connected components. The group of invertible adèles is called idèles $A_Q^\\times$.\n",
    "One can generalise to a field $F$ and $O_F$ by creating the (p)-adic on all prime ideals. $A_F$ still makes sense.\n",
    "\n",
    "### The abelian representation\n",
    "Note that for any group $G$, the one-dimensional representations of $G$ are the same as those of its maximal abelian quotient. Thus — even if $Gal(\\bar F/F)$ is non-abelian — the 1-dim representations of $Gal(\\bar F/F)$ correspond to the maximal abelian quotient. Thus 1-dim representations of $Gal(\\bar F/F)$ are in 1:1 with 1-dim representations of $Gal(F^{ab}/F) = F^\\times\\backslash A_F^\\times$. Equivalently, the 1-dim representations of $Gal(\\bar F/F)$, that is the representations of $GL_1(A_F^\\times ) \\to Aut(A_F^1)$ invariant under $GL_1(F)$, i.e. functions $GL_1(F)\\backslash GL_1(A_F) \\to \\mathbb C$, as $GL_1(A_F)=A_F^\\times$.\n",
    "\n",
    "### Langlands correspondence: \n",
    "Can we generalise the reasonning from 1-dim to n-dim? \n",
    "n-dim representations of $Gal(\\bar F/F)$ should then be representaitons of $GL_n(A_F^\\times)$ as functions on $GL_n(F)\\backslash GL_n(A_F)$ (i.e. automorphic forms!)\n",
    "Under the Langlands correspondence, certain natural invariants attached to the Galois representations and to the automorphic representations need to be matched. These invariants are the *Frobenius conjugacy classes* on the Galois side and the *Hecke eigenvalues* on the automorphic side. \n",
    "#### Definition\n",
    "A (discrete-series) automorphic representation for $G$ is an irreducible unitary subrepresentation of $L^2(G(F)\\backslash G(A_F))$ \n",
    "\n",
    "#### E.G.\n",
    "Consider $v:GL_2(\\mathbb Q)\\backslash GL_2(A_Q) \\to \\mathbb C$. The action of $GL_2(\\mathbb Q)$ is defined as\n",
    "$$g.v(h) = v(hg),g \\in GL_2(\\mathbb Q), h \\in GL_2(A_Q)$$\n",
    "which is nasty…\n",
    "A function here is a nasty object since it has many components as $GL_2(A_Q) = \\prod_p’GL_2(\\mathbb Q_p)$. But it can be split into the tensor product on each $\\mathbb Q_p$ factor: the functional space becomes\n",
    "$$\\pi = \\bigotimes_p \\pi_p  \\otimes \\pi_\\infty .$$ \n",
    "This is possible because the action of $GL_2(\\mathbb Q)$ does not mix the components (recall that $\\mathbb Q \\to A_Q$ diagonally!)\n",
    "\n",
    "### Relation to Hecke Operators\n",
    "On the automorphic side, we have that the representation $GL_2(\\mathbb Q)\\backslash GL_2(A_Q) \\to \\mathbb C$ of automorphic forms is equivalent to (**strong approx theorem**):\n",
    "$$Γ_0(N)\\backslash SL_2(\\mathbb R) \\to \\mathbb C$$ \n",
    "And here are the modular forms!\n",
    "So $\\pi = \\bigotimes_p \\pi_p  \\otimes \\pi_\\infty$ is the space of irreducible representations of the automorphic forms (this is a function space). The functions $v_p \\in \\pi$ are invariants in each $\\pi_p$ under $GL_2(\\mathbb Z_p)$ -- this group is the diagonal embedding of $GL_2(\\mathbb Q)$ -- (i.e. $g.v_p(h)=v_p(hg)=v_p(h)$ for $g \\in GL_2(\\mathbb Z_p)$ ) because they are unramified or subgroup mod $p^{n_p}$ for the ramified pts.\n",
    "\n",
    "#### Obs: modular forms\n",
    "The action of $g \\in GL_2(\\mathbb Q)$ on an automorphic representation is: $(g.f)(h)=f(hg)$.\n",
    "\n",
    "Action of $sl_2$ on $\\pi_\\infty$: this implies that the we can decompose it into a direct sum of highest weights reps (of h.w. $k$). Let $\\phi_\\pi$ the function $SL_2(\\mathbb R) \\to \\mathbb C$ corresponding to h.w. vector $v_\\infty$, and for $g \\in Γ_0(N)$, $g.\\phi_\\pi (h) = \\phi_\\pi(g.h) (ch + d)^k$, hence, modular form of weight $k$!\n",
    "#### Obs: Hecke operators\n",
    "Being associated to the highest weight representations, modular forms contain all the info on the representation $\\pi$.\n",
    "Each of the $v_p$’s forming $\\pi$ are invariant under $GL_2(\\mathbb Z_p)$. Thus they are eigenvectors of the Hecke spherical algebra (and the $\\pi_p$ the eigenspaces): it is the algebra of functions $GL_2(\\mathbb Q_p) \\to \\mathbb C$ bi-invariant under $GL_2(\\mathbb Z_p)$ with convolution product.\n",
    "This algebra is isomorphic to the polynomial algebra in two generators $H_{1,p}$ and $H_{2,p}$, whose action on $v_p$ is given by the formulas\n",
    "$$H_{1,p}v_p = \\int_{M21(\\mathbb Z_p)} \\rho_p(g)v_p dg,$$ \n",
    "$$H_{2,p}v_p = \\int_{M22(\\mathbb Z_p)} \\rho_p(g)v_p dg, $$\n",
    "$\\rho_p:GL_2(\\mathbb Z_p) \\to End \\pi_p$ is the representation\n",
    "$$M21(\\mathbb Z_p) = GL_2(\\mathbb Z_p) ((p, 0),(0, 1)) GL_2(\\mathbb Z_p), $$\n",
    "$$M22(\\mathbb Z_p) = GL_2(\\mathbb Z_p) ((p, 0),(0, p)) GL_2(\\mathbb Z_p)$$\n",
    "\n",
    "Since $H_{i,p}v_p$ is defined on a coset, it is $GL_2(\\mathbb Z_p)$ invariant and thus proportional to $v_p$. Hence the importance of the eigenvalue. On $\\phi_\\pi$, $H_{i,p}$ act as the standard Hecke operators.\n",
    "\n",
    "\n"
   ]
  },
  {
   "cell_type": "markdown",
   "metadata": {},
   "source": [
    "### Galois side: action on Etale cohomology of elliptic curve\n",
    "\n",
    "The group $Gal(\\bar{\\mathbb Q}/ \\mathbb Q) $  acts on $H^1_{et}(E_{\\bar{\\mathbb Q}},\\mathbb Q_l)=\\mathbb Q_i^2$ the étale cohomology of the Elliptic curve $E$ defined over $\\mathbb Q$. Thus we can deduce a representation of\n",
    "\n",
    "$$\\sigma_{E,l} : Gal(\\bar{ \\mathbb Q}/\\mathbb Q) \\to GL_2(\\mathbb Q_l).$$ \n",
    "\n",
    "the Langlands matching condition is that $Tr_{\\sigma_E}(Fr_p)=p+1-\\#E(F_p)$ should be equal to the eigenvalue $h_{1,p}$ of the normalised Hecke operator $H_{1,p}$, at all primes $p$ where $\\sigma_E$ and $\\pi(\\sigma_E)$ are unramified. More concretely, the eigenvalues are the Fourier coefficient of the modular cusp form $\\phi_\\pi$, hence there exists a modular cusp form $\\phi_E(q) = \\sum_n^\\infty a_nq^n$ with $a_1 = 1$ (normalisation) and $a_p = p+1−\\#E(F_p)$ \n",
    "for all but finitely many primes $p$. This implies the Fermat last theorem!"
   ]
  },
  {
   "cell_type": "code",
   "execution_count": 95,
   "metadata": {},
   "outputs": [
    {
     "data": {
      "text/plain": [
       "[-2  0]\n",
       "[ 0  3]"
      ]
     },
     "execution_count": 95,
     "metadata": {},
     "output_type": "execute_result"
    }
   ],
   "source": [
    "# let's compute the Hecke eigenvalues for N = 11\n",
    "mf = ModularForms(11, 2)\n",
    "cf = mf.cuspidal_subspace()  # for the string approx. thm., this is equivalent to GL_2(ℚ)∖GL_2(A_Q)\n",
    "T2 = mf.hecke_operator(2)\n",
    "T2.matrix()"
   ]
  },
  {
   "cell_type": "code",
   "execution_count": 96,
   "metadata": {},
   "outputs": [
    {
     "data": {
      "text/plain": [
       "Congruence Subgroup Gamma0(11)"
      ]
     },
     "execution_count": 96,
     "metadata": {},
     "output_type": "execute_result"
    }
   ],
   "source": [
    "mf.group()"
   ]
  },
  {
   "cell_type": "code",
   "execution_count": 97,
   "metadata": {},
   "outputs": [
    {
     "data": {
      "text/plain": [
       "Elliptic Curve defined by y^2 + y = x^3 - x^2 - 10*x - 20 over Rational Field"
      ]
     },
     "execution_count": 97,
     "metadata": {},
     "output_type": "execute_result"
    }
   ],
   "source": [
    "variety = mf.group().modular_abelian_variety()\n",
    "ell = variety.elliptic_curve()  # this is the elliptic curve, where we want to represent Gal(cl(Q)/Q) over its H^1\n",
    "ell"
   ]
  },
  {
   "cell_type": "code",
   "execution_count": 98,
   "metadata": {},
   "outputs": [
    {
     "data": {
      "text/plain": [
       "[Generic endomorphism of Abelian group of points on Elliptic Curve defined by y^2 + y = x^3 - x^2 - 10*x - 20 over Rational Field\n",
       "   Via:  (u,r,s,t) = (-1, 0, 0, -1),\n",
       " Generic endomorphism of Abelian group of points on Elliptic Curve defined by y^2 + y = x^3 - x^2 - 10*x - 20 over Rational Field\n",
       "   Via:  (u,r,s,t) = (1, 0, 0, 0)]"
      ]
     },
     "execution_count": 98,
     "metadata": {},
     "output_type": "execute_result"
    }
   ],
   "source": [
    "ell.automorphisms()"
   ]
  },
  {
   "cell_type": "code",
   "execution_count": 99,
   "metadata": {},
   "outputs": [
    {
     "data": {
      "text/plain": [
       "[-2, -1, 1, -2, nan, 4, -2, nan, -1, nan, 7, 3, -8]"
      ]
     },
     "execution_count": 99,
     "metadata": {},
     "output_type": "execute_result"
    }
   ],
   "source": [
    "import numpy as np\n",
    "MAXPRIME = 43\n",
    "list_of_traces = [-2]\n",
    "for p in primes(3,MAXPRIME):\n",
    "    try:\n",
    "        mat = ell.matrix_of_frobenius(p)  # over p-adic\n",
    "        tr = mat.trace()  # over p-adic\n",
    "        list_of_traces.append(QQ(tr))\n",
    "    except ArithmeticError:\n",
    "        list_of_traces.append(np.nan)\n",
    "list_of_traces"
   ]
  },
  {
   "cell_type": "code",
   "execution_count": 100,
   "metadata": {},
   "outputs": [
    {
     "data": {
      "text/plain": [
       "[        5*41 + 32*41^2 + 35*41^3 + 27*41^4 + 5*41^5 + 34*41^6 + 11*41^7 + 37*41^8 + 17*41^9 + 18*41^10 + 41^11 + 2*41^12 + 25*41^13 + 23*41^14 + 41^15 + 35*41^16 + 35*41^17 + 27*41^18 + 9*41^19 + 28*41^20 + O(41^21) 4*41 + 22*41^2 + 11*41^3 + 19*41^4 + 40*41^5 + 31*41^6 + 35*41^7 + 17*41^8 + 34*41^9 + 13*41^10 + 30*41^11 + 10*41^12 + 15*41^13 + 33*41^14 + 19*41^15 + 6*41^16 + 14*41^17 + 13*41^18 + 18*41^19 + 15*41^20 + O(41^21)]\n",
       "[        32*41 + 20*41^2 + 11*41^3 + 23*41^4 + 41^5 + 8*41^6 + 3*41^7 + 37*41^8 + 4*41^9 + 6*41^10 + 12*41^11 + 28*41^12 + 41^13 + 12*41^14 + 17*41^15 + 40*41^16 + 11*41^17 + 24*41^18 + 34*41^19 + 34*41^20 + O(41^21)           33 + 35*41 + 8*41^2 + 5*41^3 + 13*41^4 + 35*41^5 + 6*41^6 + 29*41^7 + 3*41^8 + 23*41^9 + 22*41^10 + 39*41^11 + 38*41^12 + 15*41^13 + 17*41^14 + 39*41^15 + 5*41^16 + 5*41^17 + 13*41^18 + 31*41^19 + O(41^20)]"
      ]
     },
     "execution_count": 100,
     "metadata": {},
     "output_type": "execute_result"
    }
   ],
   "source": [
    "# to give an example of the Fr_p  2x2 matrix acting on the p-adic cohomology\n",
    "mat"
   ]
  },
  {
   "cell_type": "code",
   "execution_count": 101,
   "metadata": {},
   "outputs": [
    {
     "data": {
      "text/plain": [
       "[-2, -1, 1, -2, 1, 4, -2, 0, -1, 0, 7, 3, -8]"
      ]
     },
     "execution_count": 101,
     "metadata": {},
     "output_type": "execute_result"
    }
   ],
   "source": [
    "# very that the trace is p + 1 - N_p\n",
    "expression = [p+1-ell.Np(p) for p in primes(MAXPRIME)]\n",
    "expression"
   ]
  },
  {
   "cell_type": "code",
   "execution_count": 102,
   "metadata": {},
   "outputs": [
    {
     "data": {
      "text/plain": [
       "[-2, -1, 1, -2, 1, 4, -2, 0, -1, 0, 7, 3, -8]"
      ]
     },
     "execution_count": 102,
     "metadata": {},
     "output_type": "execute_result"
    }
   ],
   "source": [
    "[cf.T(p)[0, 0] for p in primes(MAXPRIME)]  # as predicted by the Langlands correspondence"
   ]
  },
  {
   "cell_type": "code",
   "execution_count": 103,
   "metadata": {},
   "outputs": [
    {
     "data": {
      "text/plain": [
       "[0, 2, 1, 5, 1, 4, 15, 0, 22, 0, 7, 3, 33]"
      ]
     },
     "execution_count": 103,
     "metadata": {},
     "output_type": "execute_result"
    }
   ],
   "source": [
    "# the above numbers are called the Hasse invariat of the elliptic curve over F_p\n",
    "list_of_hasse = []\n",
    "for p in primes(MAXPRIME):\n",
    "    try:\n",
    "        list_of_hasse.append(ell.change_ring(GF(p)).hasse_invariant())\n",
    "    except ArithmeticError:\n",
    "        list_of_hasse.append(1)\n",
    "list_of_hasse"
   ]
  },
  {
   "cell_type": "code",
   "execution_count": 104,
   "metadata": {},
   "outputs": [],
   "source": [
    "# check this is indeed teh Hasse inviariant (equivalence mod p)\n",
    "for i, p in enumerate(primes(MAXPRIME)):\n",
    "    assert GF(p)(list_of_hasse[i]) == GF(p)(expression[i])"
   ]
  },
  {
   "cell_type": "markdown",
   "metadata": {},
   "source": [
    "### Recap on Langlands in 2-dim\n",
    "\n",
    "We have two sides of the correspondence: the Glois group side and the automorphic side.\n",
    "\n",
    "Over the automorphic side -- which corresponds to the spaces of modular forms thanks to the strong approximation theorem -- we are interested to understand how the Hecke operators act on the cusp subspace.\n",
    "\n",
    "\n",
    "Over the Galois group side, we are interested in computing the Frobenius morphisms over a certain representation. The space over which to represent $Fr_p$ is the cohomology of the modular curve. The modular curve is really the space where the modular forms are defined.\n",
    "\n",
    "The Langlands correspondence asserts that\n",
    "\n",
    "$$Tr(Fr_p) = Eigval(T_p)$$\n",
    "\n"
   ]
  },
  {
   "cell_type": "markdown",
   "metadata": {},
   "source": [
    "### Final remark\n",
    "\n",
    "As you may have noticed, there are some non-canonical choices. For eexample, why shall we represent $Fr_p$ over the homology group? If we change the space of representations, also the space of modular forms we have to consider will need to change. And all of this works for a fixed modular group $\\Gamma_0(N)$. What if we make $N$ vary? When things start to vary over a parameter, we shall think it terms of bundles (sheaves). The intuitive picture is that the proper Langlands correspodence shall be formulated in terms of sheaves and functors:\n",
    " 1. Automorphic rrepresentations become moduli spaces of bundles $Bun_n$ (not too hard to imagine, as in the above example they are already a vector space of functions for a fixed $N$). An automorphic form is thus a bundle $Aut_E$ \n",
    " 2. Hecke operators become functors $H_i$ acting on bundles (again, a natural generalisations, as in the above examples Hecke operators act on the space of modular forms)\n",
    " 3. The Frobenius represetaitons become a locally constant sheaf $E$ -- that has to be chosen! And the choice of such locally constant sheaf will influence the choice of \"automorphic bundles\" to choose. Does it come from a cohomology theory of a certain variety associated to the automorphic forms? This is the question behind **the theory of motives**\n",
    " 4. The Eigen-equation becomes an equation between sheaves, roughly like:\n",
    " \n",
    "$$H_i(Aut_E) = E \\times Aut_E, \\ \\ E, Aut_E \\in Bun_n$$"
   ]
  },
  {
   "cell_type": "code",
   "execution_count": null,
   "metadata": {},
   "outputs": [],
   "source": []
  }
 ],
 "metadata": {
  "kernelspec": {
   "display_name": "SageMath 9.1",
   "language": "sage",
   "name": "sagemath"
  },
  "language_info": {
   "codemirror_mode": {
    "name": "ipython",
    "version": 3
   },
   "file_extension": ".py",
   "mimetype": "text/x-python",
   "name": "python",
   "nbconvert_exporter": "python",
   "pygments_lexer": "ipython3",
   "version": "3.7.3"
  }
 },
 "nbformat": 4,
 "nbformat_minor": 2
}
